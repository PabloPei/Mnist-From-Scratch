{
  "nbformat": 4,
  "nbformat_minor": 0,
  "metadata": {
    "colab": {
      "provenance": [],
      "collapsed_sections": [
        "zySiNO589J5n",
        "QUyNHF3v9aGL",
        "OaBf2oJQBU4o",
        "jc9x_iHbIs5t",
        "rSU5P7okcUH6"
      ]
    },
    "kernelspec": {
      "name": "python3",
      "display_name": "Python 3"
    },
    "language_info": {
      "name": "python"
    }
  },
  "cells": [
    {
      "cell_type": "markdown",
      "source": [
        "---\n",
        "<h1> Mnist Implementation from scratch<h1>\n",
        "\n",
        "---"
      ],
      "metadata": {
        "id": "zoAZmNSY1HoH"
      }
    },
    {
      "cell_type": "markdown",
      "source": [
        "## Desing\n",
        "\n",
        " - Two layer neuronal network of 10 nodes to identify digits from a 24x24 image\n",
        " - Activation function wiil be ReLU in the hidden layer\n",
        " - Activation function wiil be SoftMax for the output layer\n",
        "\n",
        "Matriz:\n",
        "- A = X [784xm]\n",
        "- Z = W [10x784] x A [784xm] + b [10xm]"
      ],
      "metadata": {
        "id": "W9_-9jlK1qc5"
      }
    },
    {
      "cell_type": "markdown",
      "source": [
        "## Libraries"
      ],
      "metadata": {
        "id": "zySiNO589J5n"
      }
    },
    {
      "cell_type": "code",
      "source": [
        "import numpy as np\n",
        "import pandas as pd\n",
        "from matplotlib import pyplot as plt"
      ],
      "metadata": {
        "id": "MnakThOl1GaF"
      },
      "execution_count": 202,
      "outputs": []
    },
    {
      "cell_type": "markdown",
      "source": [
        "## Data"
      ],
      "metadata": {
        "id": "QUyNHF3v9aGL"
      }
    },
    {
      "cell_type": "code",
      "source": [
        "#Mnist data base: https://www.kaggle.com/datasets/oddrationale/mnist-in-csv?resource=download\n",
        "data = pd.read_csv('mnist_train.csv')"
      ],
      "metadata": {
        "id": "tS4xZaML9ZMj"
      },
      "execution_count": 203,
      "outputs": []
    },
    {
      "cell_type": "code",
      "source": [
        "data=np.array(data)\n",
        "m, n = data.shape\n",
        "np.random.shuffle(data)\n",
        "\n",
        "#test\n",
        "data_dev = data[0:1000].T\n",
        "Y_dev = data_dev[0] #labels\n",
        "X_dev = data_dev[1:n] #features\n",
        "X_dev = X_dev / 255\n",
        "\n",
        "#train\n",
        "data_train = data[1000:m].T\n",
        "Y_train = data_train[0]\n",
        "X_train = data_train[1:n]\n",
        "X_train = X_train / 255."
      ],
      "metadata": {
        "id": "HzgUeG2D-UkQ"
      },
      "execution_count": 204,
      "outputs": []
    },
    {
      "cell_type": "markdown",
      "source": [
        "## Implementation"
      ],
      "metadata": {
        "id": "OaBf2oJQBU4o"
      }
    },
    {
      "cell_type": "code",
      "source": [
        "#activation functions\n",
        "def ReLU(Z):\n",
        "  return np.maximum(0,Z)\n",
        "\n",
        "def deriv_ReLU(Z):\n",
        "    return Z > 0 #true is 1 and false is 0\n",
        "\n",
        "def softmax(Z):\n",
        "    Z -= np.max(Z, axis=0)  # Subtract max value for numerical stability\n",
        "    A = np.exp(Z) / np.sum(np.exp(Z), axis=0)\n",
        "    return A\n",
        ""
      ],
      "metadata": {
        "id": "mrN_XQTK-Vgz"
      },
      "execution_count": 205,
      "outputs": []
    },
    {
      "cell_type": "code",
      "source": [
        "#one hot encoding\n",
        "def one_hot(Y):\n",
        "    Y=Y.astype(int)\n",
        "    one_hot_Y = np.zeros((Y.size, Y.max() + 1))\n",
        "    one_hot_Y[np.arange(Y.size), Y] = 1\n",
        "    one_hot_Y = one_hot_Y.T\n",
        "    return one_hot_Y"
      ],
      "metadata": {
        "id": "NS5_1W30EEKJ"
      },
      "execution_count": 206,
      "outputs": []
    },
    {
      "cell_type": "code",
      "source": [
        "#Params manage\n",
        "def init_params():\n",
        "    W1 = np.random.normal(size=(10, 784)) * np.sqrt(1./(784))\n",
        "    b1 = np.random.normal(size=(10, 1)) * np.sqrt(1./10)\n",
        "    W2 = np.random.normal(size=(10, 10)) * np.sqrt(1./20)\n",
        "    b2 = np.random.normal(size=(10, 1)) * np.sqrt(1./(784))\n",
        "    return W1, b1, W2, b2\n",
        "\n",
        "def update_params(W1,b1,W2,b2,dW1,db1,dW2,db2,alpha):\n",
        "  W1 = W1 - alpha * dW1\n",
        "  b1 = b1 - alpha * db1\n",
        "  m, n = dW2.shape\n",
        "  W2 = W2 - alpha * dW2\n",
        "  b2 = b2 - alpha * db2\n",
        "  return W1,b1,W2,b2\n"
      ],
      "metadata": {
        "id": "IIuElB9qAa56"
      },
      "execution_count": 207,
      "outputs": []
    },
    {
      "cell_type": "code",
      "source": [
        "#fordward propagation\n",
        "def forward_prop(W1, b1, W2, b2, X):\n",
        "    Z1 = W1.dot(X) + b1\n",
        "    A1 = ReLU(Z1)\n",
        "    Z2 = W2.dot(A1) + b2\n",
        "    A2 = softmax(Z2)\n",
        "    return Z1, A1, Z2, A2"
      ],
      "metadata": {
        "id": "8TZxf30UAREX"
      },
      "execution_count": 208,
      "outputs": []
    },
    {
      "cell_type": "code",
      "source": [
        "#backward propagation\n",
        "def backward_prop(Z1, A1, Z2, A2, W1, W2, X, Y):\n",
        "\n",
        "    one_hot_Y = one_hot(Y)\n",
        "\n",
        "    dZ2 = A2 - one_hot_Y\n",
        "    dW2 = 1 / m * dZ2.dot(A1.T)\n",
        "    db2 = 1 / m * np.sum(dZ2)\n",
        "    dZ1 = W2.T.dot(dZ2) * deriv_ReLU(Z1)\n",
        "    dW1 = 1 / m * dZ1.dot(X.T)\n",
        "    db1 = 1 / m * np.sum(dZ1)\n",
        "\n",
        "    return dW1, db1, dW2, db2"
      ],
      "metadata": {
        "id": "GXGWmOBiCQQD"
      },
      "execution_count": 209,
      "outputs": []
    },
    {
      "cell_type": "code",
      "source": [
        "def get_accuracy(predictions, Y):\n",
        "  print(predictions,Y)\n",
        "  return np.sum(predictions == Y) / Y.size"
      ],
      "metadata": {
        "id": "JBxsanUeIJzg"
      },
      "execution_count": 210,
      "outputs": []
    },
    {
      "cell_type": "code",
      "source": [
        "# gradiant descent\n",
        "def gradient_descent(X,Y,iterations,alpha):\n",
        "  W1,b1,W2,b2 = init_params()\n",
        "\n",
        "  for i in range (iterations):\n",
        "    Z1, A1, Z2, A2 = forward_prop(W1, b1, W2, b2, X)\n",
        "    dW1, db1, dW2, db2 = backward_prop(Z1, A1, Z2, A2, W1, W2, X, Y)\n",
        "    W1, b1, W2, b2 = update_params(W1, b1, W2, b2, dW1, db1, dW2, db2, alpha)\n",
        "\n",
        "    if (i % 10 == 0):\n",
        "      print( \"Iteration: \", i)\n",
        "      print( \"Accuracy: \", get_accuracy(np.argmax(A2,0),Y))\n",
        "\n",
        "  return W1, b1, W2, b2"
      ],
      "metadata": {
        "id": "E1ZvAaK9GTGp"
      },
      "execution_count": 211,
      "outputs": []
    },
    {
      "cell_type": "markdown",
      "source": [
        "## Training"
      ],
      "metadata": {
        "id": "jc9x_iHbIs5t"
      }
    },
    {
      "cell_type": "code",
      "source": [
        "W1, b1, W2, b2 = gradient_descent(X_train, Y_train, 500, 0.1)"
      ],
      "metadata": {
        "colab": {
          "base_uri": "https://localhost:8080/"
        },
        "id": "emvmUDe2Iuf1",
        "outputId": "a6699b29-1273-4eb8-ce62-4c702e655ac8"
      },
      "execution_count": 212,
      "outputs": [
        {
          "output_type": "stream",
          "name": "stdout",
          "text": [
            "Iteration:  0\n",
            "[8 7 7 ... 7 7 7] [5 0 6 ... 4 1 1]\n",
            "Accuracy:  0.0848135593220339\n",
            "Iteration:  10\n",
            "[2 2 8 ... 3 2 2] [5 0 6 ... 4 1 1]\n",
            "Accuracy:  0.2358135593220339\n",
            "Iteration:  20\n",
            "[2 2 8 ... 3 2 2] [5 0 6 ... 4 1 1]\n",
            "Accuracy:  0.3554576271186441\n",
            "Iteration:  30\n",
            "[8 0 8 ... 4 1 1] [5 0 6 ... 4 1 1]\n",
            "Accuracy:  0.5665423728813559\n",
            "Iteration:  40\n",
            "[8 0 8 ... 4 1 1] [5 0 6 ... 4 1 1]\n",
            "Accuracy:  0.6487627118644068\n",
            "Iteration:  50\n",
            "[6 0 8 ... 4 1 1] [5 0 6 ... 4 1 1]\n",
            "Accuracy:  0.6973898305084746\n",
            "Iteration:  60\n",
            "[6 0 8 ... 4 1 1] [5 0 6 ... 4 1 1]\n",
            "Accuracy:  0.7247796610169491\n",
            "Iteration:  70\n",
            "[6 0 6 ... 4 1 1] [5 0 6 ... 4 1 1]\n",
            "Accuracy:  0.7448135593220339\n",
            "Iteration:  80\n",
            "[6 0 6 ... 4 1 1] [5 0 6 ... 4 1 1]\n",
            "Accuracy:  0.7606779661016949\n",
            "Iteration:  90\n",
            "[6 0 6 ... 4 1 1] [5 0 6 ... 4 1 1]\n",
            "Accuracy:  0.773593220338983\n",
            "Iteration:  100\n",
            "[6 0 6 ... 4 1 1] [5 0 6 ... 4 1 1]\n",
            "Accuracy:  0.7854576271186441\n",
            "Iteration:  110\n",
            "[6 0 6 ... 4 1 1] [5 0 6 ... 4 1 1]\n",
            "Accuracy:  0.7952033898305084\n",
            "Iteration:  120\n",
            "[6 0 6 ... 4 1 1] [5 0 6 ... 4 1 1]\n",
            "Accuracy:  0.804271186440678\n",
            "Iteration:  130\n",
            "[5 0 6 ... 4 1 1] [5 0 6 ... 4 1 1]\n",
            "Accuracy:  0.8127627118644067\n",
            "Iteration:  140\n",
            "[5 0 6 ... 4 1 1] [5 0 6 ... 4 1 1]\n",
            "Accuracy:  0.8208305084745763\n",
            "Iteration:  150\n",
            "[5 0 6 ... 4 1 1] [5 0 6 ... 4 1 1]\n",
            "Accuracy:  0.8281016949152542\n",
            "Iteration:  160\n",
            "[5 0 6 ... 4 1 1] [5 0 6 ... 4 1 1]\n",
            "Accuracy:  0.8347118644067797\n",
            "Iteration:  170\n",
            "[5 0 6 ... 4 1 1] [5 0 6 ... 4 1 1]\n",
            "Accuracy:  0.84\n",
            "Iteration:  180\n",
            "[5 0 6 ... 4 1 1] [5 0 6 ... 4 1 1]\n",
            "Accuracy:  0.8450677966101695\n",
            "Iteration:  190\n",
            "[5 0 6 ... 4 1 1] [5 0 6 ... 4 1 1]\n",
            "Accuracy:  0.8488983050847457\n",
            "Iteration:  200\n",
            "[5 0 6 ... 4 1 1] [5 0 6 ... 4 1 1]\n",
            "Accuracy:  0.8526610169491525\n",
            "Iteration:  210\n",
            "[5 0 6 ... 4 1 1] [5 0 6 ... 4 1 1]\n",
            "Accuracy:  0.8563220338983051\n",
            "Iteration:  220\n",
            "[5 0 6 ... 4 1 1] [5 0 6 ... 4 1 1]\n",
            "Accuracy:  0.8595084745762712\n",
            "Iteration:  230\n",
            "[5 0 6 ... 4 1 1] [5 0 6 ... 4 1 1]\n",
            "Accuracy:  0.8622033898305085\n",
            "Iteration:  240\n",
            "[5 0 6 ... 4 1 1] [5 0 6 ... 4 1 1]\n",
            "Accuracy:  0.8652542372881356\n",
            "Iteration:  250\n",
            "[5 0 6 ... 4 1 1] [5 0 6 ... 4 1 1]\n",
            "Accuracy:  0.8678983050847457\n",
            "Iteration:  260\n",
            "[5 0 6 ... 4 1 1] [5 0 6 ... 4 1 1]\n",
            "Accuracy:  0.8701864406779661\n",
            "Iteration:  270\n",
            "[5 0 6 ... 4 1 1] [5 0 6 ... 4 1 1]\n",
            "Accuracy:  0.8724745762711864\n",
            "Iteration:  280\n",
            "[5 0 6 ... 4 1 1] [5 0 6 ... 4 1 1]\n",
            "Accuracy:  0.8742711864406779\n",
            "Iteration:  290\n",
            "[5 0 6 ... 4 1 1] [5 0 6 ... 4 1 1]\n",
            "Accuracy:  0.8758813559322034\n",
            "Iteration:  300\n",
            "[5 0 6 ... 4 1 1] [5 0 6 ... 4 1 1]\n",
            "Accuracy:  0.8775762711864407\n",
            "Iteration:  310\n",
            "[5 0 6 ... 4 1 1] [5 0 6 ... 4 1 1]\n",
            "Accuracy:  0.8790508474576271\n",
            "Iteration:  320\n",
            "[5 0 6 ... 4 1 1] [5 0 6 ... 4 1 1]\n",
            "Accuracy:  0.8804915254237288\n",
            "Iteration:  330\n",
            "[5 0 6 ... 4 1 1] [5 0 6 ... 4 1 1]\n",
            "Accuracy:  0.8818813559322034\n",
            "Iteration:  340\n",
            "[5 0 6 ... 4 1 1] [5 0 6 ... 4 1 1]\n",
            "Accuracy:  0.8833050847457627\n",
            "Iteration:  350\n",
            "[5 0 6 ... 4 1 1] [5 0 6 ... 4 1 1]\n",
            "Accuracy:  0.8846610169491526\n",
            "Iteration:  360\n",
            "[5 0 6 ... 4 1 1] [5 0 6 ... 4 1 1]\n",
            "Accuracy:  0.8857966101694915\n",
            "Iteration:  370\n",
            "[5 0 6 ... 4 1 1] [5 0 6 ... 4 1 1]\n",
            "Accuracy:  0.8869491525423728\n",
            "Iteration:  380\n",
            "[5 0 6 ... 4 1 1] [5 0 6 ... 4 1 1]\n",
            "Accuracy:  0.8878305084745762\n",
            "Iteration:  390\n",
            "[5 0 6 ... 4 1 1] [5 0 6 ... 4 1 1]\n",
            "Accuracy:  0.8883728813559322\n",
            "Iteration:  400\n",
            "[5 0 6 ... 4 1 1] [5 0 6 ... 4 1 1]\n",
            "Accuracy:  0.8893728813559322\n",
            "Iteration:  410\n",
            "[5 0 6 ... 4 1 1] [5 0 6 ... 4 1 1]\n",
            "Accuracy:  0.8906949152542373\n",
            "Iteration:  420\n",
            "[5 0 6 ... 4 1 1] [5 0 6 ... 4 1 1]\n",
            "Accuracy:  0.8915084745762711\n",
            "Iteration:  430\n",
            "[5 0 6 ... 4 1 1] [5 0 6 ... 4 1 1]\n",
            "Accuracy:  0.8925254237288136\n",
            "Iteration:  440\n",
            "[5 0 6 ... 4 1 1] [5 0 6 ... 4 1 1]\n",
            "Accuracy:  0.8931864406779662\n",
            "Iteration:  450\n",
            "[5 0 6 ... 4 1 1] [5 0 6 ... 4 1 1]\n",
            "Accuracy:  0.8941186440677966\n",
            "Iteration:  460\n",
            "[5 0 6 ... 4 1 1] [5 0 6 ... 4 1 1]\n",
            "Accuracy:  0.8950847457627119\n",
            "Iteration:  470\n",
            "[5 0 6 ... 4 1 1] [5 0 6 ... 4 1 1]\n",
            "Accuracy:  0.8957966101694915\n",
            "Iteration:  480\n",
            "[5 0 6 ... 4 1 1] [5 0 6 ... 4 1 1]\n",
            "Accuracy:  0.8962881355932203\n",
            "Iteration:  490\n",
            "[5 0 6 ... 4 1 1] [5 0 6 ... 4 1 1]\n",
            "Accuracy:  0.8969491525423728\n"
          ]
        }
      ]
    },
    {
      "cell_type": "markdown",
      "source": [
        "## Testing"
      ],
      "metadata": {
        "id": "rSU5P7okcUH6"
      }
    },
    {
      "cell_type": "code",
      "source": [
        "def get_predictions(A2):\n",
        "    return np.argmax(A2, 0)\n",
        "\n",
        "def make_predictions(X, W1, b1, W2, b2):\n",
        "    _, _, _, A2 = forward_prop(W1, b1, W2, b2, X)\n",
        "    predictions = get_predictions(A2)\n",
        "    return predictions\n",
        "\n",
        "def test_prediction(index, W1, b1, W2, b2):\n",
        "    current_image = X_train[:, index, None]\n",
        "    prediction = make_predictions(X_train[:, index, None], W1, b1, W2, b2)\n",
        "    label = Y_train[index]\n",
        "    print(\"Prediction: \", prediction)\n",
        "    print(\"Label: \", label)\n",
        "\n",
        "    current_image = current_image.reshape((28, 28)) * 255\n",
        "    plt.gray()\n",
        "    plt.imshow(current_image, interpolation='nearest')\n",
        "    plt.show()"
      ],
      "metadata": {
        "id": "JAeQtJfGcTre"
      },
      "execution_count": 215,
      "outputs": []
    },
    {
      "cell_type": "code",
      "source": [
        "test_prediction(6, W1, b1, W2, b2)"
      ],
      "metadata": {
        "colab": {
          "base_uri": "https://localhost:8080/",
          "height": 465
        },
        "id": "t9J5tuC9cnrn",
        "outputId": "d3e9bbdd-9180-4a35-ec5b-d9bd2f20224d"
      },
      "execution_count": 226,
      "outputs": [
        {
          "output_type": "stream",
          "name": "stdout",
          "text": [
            "Prediction:  [8]\n",
            "Label:  8\n"
          ]
        },
        {
          "output_type": "display_data",
          "data": {
            "text/plain": [
              "<Figure size 640x480 with 1 Axes>"
            ],
            "image/png": "[encoded data removed]"
          },
          "metadata": {}
        }
      ]
    },
    {
      "cell_type": "code",
      "source": [
        "dev_predictions = make_predictions(X_dev, W1, b1, W2, b2)\n",
        "get_accuracy(dev_predictions, Y_dev)"
      ],
      "metadata": {
        "colab": {
          "base_uri": "https://localhost:8080/"
        },
        "id": "9ObjaUKEcoP9",
        "outputId": "f9cfd85e-611c-4b37-aa84-4647b5b8c9bd"
      },
      "execution_count": 218,
      "outputs": [
        {
          "output_type": "stream",
          "name": "stdout",
          "text": [
            "[9 0 2 2 7 8 0 4 4 0 9 8 5 5 4 8 9 5 1 9 7 2 6 6 4 4 8 9 3 1 0 6 9 9 3 7 1\n",
            " 5 1 4 2 1 9 9 5 5 6 3 0 6 7 2 4 5 9 8 8 1 5 2 6 9 1 8 7 1 9 0 9 0 1 2 9 2\n",
            " 9 8 1 0 8 2 1 0 9 3 0 1 3 4 5 1 1 3 0 8 1 7 7 5 8 5 2 6 2 9 5 5 3 0 5 7 1\n",
            " 8 8 0 7 1 8 1 3 5 2 0 3 6 4 3 7 0 0 4 3 6 0 7 6 6 4 5 4 3 9 1 0 0 9 3 3 6\n",
            " 3 3 0 5 2 6 5 8 4 5 8 7 5 9 5 7 4 6 8 0 4 1 7 0 9 0 6 9 6 4 4 7 9 0 4 1 0\n",
            " 4 0 8 2 3 5 3 7 9 2 6 2 2 1 4 8 5 5 2 0 0 1 4 9 4 3 8 1 2 4 9 3 7 0 2 2 3\n",
            " 3 5 1 4 2 0 2 9 7 2 9 0 1 8 1 0 6 2 4 5 2 2 5 9 0 7 0 5 9 3 1 8 0 1 1 8 9\n",
            " 7 0 7 8 9 7 1 7 4 3 4 1 5 8 1 4 5 2 9 2 7 6 0 7 4 3 8 7 0 2 9 9 7 0 1 3 9\n",
            " 5 7 4 9 8 6 9 1 6 6 8 8 4 0 0 8 5 5 4 3 9 8 0 9 0 5 9 2 9 5 8 4 5 7 2 2 5\n",
            " 8 0 9 2 7 2 2 8 7 6 3 8 0 4 8 0 5 5 6 6 3 1 2 7 5 2 6 7 9 4 6 1 1 8 7 3 8\n",
            " 5 3 2 3 2 1 2 6 7 4 3 3 4 5 6 4 7 3 2 9 1 0 1 2 9 5 9 9 3 1 1 2 9 3 6 7 5\n",
            " 5 2 2 8 4 6 5 3 0 6 1 5 2 4 1 4 4 8 7 5 3 9 1 6 2 0 7 8 9 2 4 9 1 1 9 1 1\n",
            " 4 4 4 1 8 6 0 0 3 9 8 4 9 1 4 9 4 6 3 0 9 2 8 7 6 0 5 6 0 4 3 0 7 9 1 3 9\n",
            " 6 3 1 2 1 1 6 2 8 1 3 5 0 5 0 1 5 7 1 3 0 3 9 9 3 1 5 6 4 2 1 0 4 7 9 9 9\n",
            " 7 8 4 1 2 2 0 7 2 4 2 3 9 7 7 8 0 2 2 1 5 0 2 5 7 7 1 3 8 9 7 5 8 3 5 3 9\n",
            " 2 0 4 9 1 9 4 1 1 5 9 9 7 6 3 1 6 5 0 4 2 2 5 1 6 4 1 1 0 3 7 3 5 0 3 8 0\n",
            " 9 2 3 0 1 7 4 9 3 4 6 6 5 0 4 6 4 0 8 3 1 3 9 5 3 3 9 2 3 7 5 8 3 2 3 9 1\n",
            " 5 3 4 3 8 0 2 2 6 8 6 4 0 4 5 3 7 7 3 7 2 9 9 6 1 3 9 3 2 8 6 1 7 7 5 6 1\n",
            " 7 3 2 5 1 1 3 9 6 9 4 0 6 2 9 4 3 2 2 5 1 7 9 3 3 9 0 4 3 5 7 7 6 4 3 1 8\n",
            " 4 4 2 2 9 1 9 3 9 7 9 9 6 8 8 2 8 1 4 8 6 8 0 7 4 6 4 4 1 9 6 3 6 3 2 7 1\n",
            " 1 6 4 2 5 7 1 8 1 7 8 7 8 3 5 7 5 8 5 1 2 0 4 0 7 3 6 3 3 2 6 5 1 1 8 1 4\n",
            " 7 7 7 1 7 1 2 7 5 7 5 9 3 6 3 3 7 3 7 7 8 1 9 0 6 7 4 1 2 4 1 9 6 4 9 3 6\n",
            " 7 3 3 1 6 9 8 1 8 1 1 3 6 7 2 3 5 1 7 1 0 0 3 2 3 1 4 4 2 7 0 8 8 9 4 3 9\n",
            " 2 7 9 4 2 2 0 7 5 9 1 2 7 4 2 5 4 0 9 1 6 1 4 8 1 7 9 6 5 0 8 1 1 0 7 9 2\n",
            " 1 9 2 5 9 9 1 0 5 8 8 0 9 0 1 8 9 4 4 5 9 7 8 7 4 5 3 6 9 7 0 8 4 7 5 2 4\n",
            " 4 1 4 3 0 9 6 0 5 0 8 1 1 2 7 8 0 6 9 1 7 4 4 5 4 9 8 7 5 0 4 1 3 8 2 1 3\n",
            " 7 9 3 0 1 4 3 5 9 1 6 2 4 5 9 5 9 7 6 1 2 2 0 4 0 6 9 4 7 3 1 5 2 0 3 6 3\n",
            " 7] [7 0 2 2 7 8 0 4 2 0 9 8 5 5 6 8 9 5 1 4 1 2 6 6 4 4 8 9 8 1 0 6 9 9 3 7 1\n",
            " 5 1 4 2 1 9 9 5 5 6 3 0 6 7 2 4 5 9 8 8 1 5 2 6 9 1 8 7 1 9 0 9 0 1 2 9 2\n",
            " 9 8 1 0 8 2 1 0 9 5 0 1 8 4 5 1 1 3 0 8 1 7 7 5 8 5 2 2 2 9 5 5 5 0 5 7 1\n",
            " 8 8 0 7 1 5 1 3 5 2 0 3 6 9 2 7 0 0 4 3 6 0 7 6 6 4 5 4 3 9 1 0 0 7 3 3 0\n",
            " 3 3 0 5 2 6 5 8 4 5 8 7 5 9 5 7 4 6 8 0 4 1 7 0 9 0 6 9 6 4 4 7 9 0 4 1 0\n",
            " 4 0 8 2 3 5 3 7 9 2 6 2 3 1 4 8 5 5 2 9 0 1 4 9 4 3 8 1 2 7 9 3 8 0 2 2 3\n",
            " 3 5 1 4 2 0 2 9 7 2 9 0 8 8 1 3 6 2 4 5 2 2 5 7 0 7 0 8 5 9 1 8 0 1 1 8 9\n",
            " 7 0 7 8 9 7 1 8 4 3 4 1 5 8 1 4 5 2 9 2 7 6 0 7 4 3 8 7 0 2 9 9 7 8 1 8 4\n",
            " 5 7 4 9 8 6 5 1 6 6 8 8 4 0 0 8 1 5 4 3 9 8 7 9 0 5 9 2 9 5 8 7 5 7 3 2 5\n",
            " 8 0 9 2 7 5 2 8 7 6 5 8 0 4 3 0 5 5 6 6 3 1 1 7 5 2 6 7 9 4 6 1 1 8 7 3 8\n",
            " 5 3 2 3 2 1 2 6 7 4 3 3 4 5 6 4 7 3 8 9 1 0 1 3 9 5 9 9 3 1 2 2 9 3 6 7 5\n",
            " 5 2 2 8 4 6 5 3 0 4 1 5 2 4 1 4 4 5 7 5 3 9 1 6 2 0 7 8 9 2 0 9 1 1 9 1 1\n",
            " 2 4 4 1 8 6 0 0 5 9 8 4 9 1 4 9 4 6 9 4 9 2 8 7 6 0 3 6 0 4 3 0 7 9 1 5 7\n",
            " 6 3 1 2 1 1 6 6 8 1 3 5 0 5 0 1 3 7 1 3 0 3 8 9 3 1 5 6 4 2 1 0 4 7 9 9 9\n",
            " 7 8 4 1 2 2 0 7 2 4 2 3 9 7 7 8 8 2 2 1 5 0 2 5 7 7 1 3 8 9 7 5 8 3 5 3 9\n",
            " 2 0 4 9 1 4 4 1 1 5 9 9 7 6 3 1 6 5 0 4 2 2 5 1 6 4 1 1 0 3 7 3 5 0 3 8 0\n",
            " 9 2 3 6 1 7 4 9 3 4 6 6 5 0 4 6 4 0 8 3 1 3 9 5 3 3 9 2 3 7 5 8 3 6 3 9 1\n",
            " 5 3 6 3 9 0 2 2 6 8 6 4 0 2 5 3 7 7 3 7 2 9 9 6 1 3 9 3 2 2 6 1 7 7 5 6 1\n",
            " 7 3 2 5 1 1 5 9 6 4 4 0 6 2 9 4 3 2 2 5 1 7 9 8 3 9 0 4 3 5 7 7 6 4 3 1 2\n",
            " 4 4 2 0 8 1 9 9 9 7 9 9 6 1 8 2 8 1 4 8 6 8 0 7 4 6 4 4 1 9 6 3 6 3 2 7 1\n",
            " 1 6 4 3 5 7 1 8 1 7 8 7 8 3 5 7 5 8 5 1 2 0 4 0 7 3 6 3 3 2 6 5 1 1 8 1 4\n",
            " 7 7 3 1 7 2 2 2 5 7 5 9 3 6 3 3 7 3 7 7 8 1 4 0 6 7 4 1 2 4 1 9 6 9 9 3 6\n",
            " 7 3 3 2 6 9 8 1 8 1 2 3 6 7 2 3 5 1 7 1 0 0 3 6 3 1 4 4 2 7 0 8 8 9 4 3 9\n",
            " 2 7 9 6 2 2 0 7 3 9 1 2 7 9 2 5 4 0 9 1 6 1 4 8 1 7 9 6 5 0 4 1 1 0 7 9 2\n",
            " 1 9 2 5 9 9 1 0 5 8 8 0 9 0 1 8 9 4 4 5 9 7 8 7 4 5 3 6 9 9 0 8 4 7 5 2 4\n",
            " 4 1 4 3 0 9 6 0 5 0 8 1 1 2 7 3 0 6 9 1 7 4 4 5 4 9 8 7 5 0 4 1 3 3 1 1 3\n",
            " 7 9 3 0 1 4 1 5 9 1 6 2 4 5 9 5 9 7 6 1 2 2 0 4 0 6 9 4 7 3 1 3 7 0 3 6 5\n",
            " 7]\n"
          ]
        },
        {
          "output_type": "execute_result",
          "data": {
            "text/plain": [
              "0.909"
            ]
          },
          "metadata": {},
          "execution_count": 218
        }
      ]
    },
    {
      "cell_type": "code",
      "source": [],
      "metadata": {
        "id": "Yg9MfjXRc2pZ"
      },
      "execution_count": null,
      "outputs": []
    }
  ]
}